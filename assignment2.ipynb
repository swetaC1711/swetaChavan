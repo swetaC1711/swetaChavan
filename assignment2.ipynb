{
  "nbformat": 4,
  "nbformat_minor": 0,
  "metadata": {
    "colab": {
      "provenance": []
    },
    "kernelspec": {
      "name": "python3",
      "display_name": "Python 3"
    },
    "language_info": {
      "name": "python"
    }
  },
  "cells": [
    {
      "cell_type": "markdown",
      "source": [
        "r+ (we can read and write the file but the file pointer will be at the beginning of the file)"
      ],
      "metadata": {
        "id": "0E4k5KCeFwT2"
      }
    },
    {
      "cell_type": "code",
      "execution_count": 3,
      "metadata": {
        "id": "HHsYl_4bDYKD"
      },
      "outputs": [],
      "source": [
        "with open('a.txt', 'r+') as fl:\n",
        "    fl.write(\"new line \\n\") "
      ]
    },
    {
      "cell_type": "code",
      "source": [
        "with open('a.txt', 'r+') as fl:\n",
        "  fl.read()\n",
        "  fl.write(\"hello world \\n\") "
      ],
      "metadata": {
        "id": "Yc0v1zeWEXcF"
      },
      "execution_count": 4,
      "outputs": []
    },
    {
      "cell_type": "markdown",
      "source": [
        "w+(we can write and read the file but the overwrites the existing file if the file exists. If the file does not exist, it creates a new file for reading and writing.)"
      ],
      "metadata": {
        "id": "Lm0udusAGAWD"
      }
    },
    {
      "cell_type": "code",
      "source": [
        "with open('b.txt', 'w+') as fl:   \n",
        "    fl.write(\"hello world\\n\")\n",
        "    fl.write(\"welcom to python\\n\")             \n",
        "    fl.write(\"have a good day\\n\") \n",
        "    fl.seek(0)                     \n",
        "    print(fl.read()) "
      ],
      "metadata": {
        "colab": {
          "base_uri": "https://localhost:8080/"
        },
        "id": "C7IAZCZMEkGZ",
        "outputId": "2884a54b-8df7-4e3d-83a9-56a0a6852ac4"
      },
      "execution_count": 8,
      "outputs": [
        {
          "output_type": "stream",
          "name": "stdout",
          "text": [
            "hello world\n",
            "welcom to python\n",
            "have a good day\n",
            "\n"
          ]
        }
      ]
    },
    {
      "cell_type": "markdown",
      "source": [
        "a+ (Opens a file for both appending and reading. The file pointer is at the end of the file if the file exists. The file opens in the append mode. If the file does not exist, it creates a new file for reading and writing.)"
      ],
      "metadata": {
        "id": "32r1bVcxGNGe"
      }
    },
    {
      "cell_type": "code",
      "source": [
        "with open('b.txt', 'a+') as fl:\n",
        "    fl.seek(0)\n",
        "    lines = fl.readlines()\n",
        "    fl.write(\"\\n\" + str(len(lines)))\n",
        "    print(lines)"
      ],
      "metadata": {
        "colab": {
          "base_uri": "https://localhost:8080/"
        },
        "id": "om3V_cA9FPL4",
        "outputId": "191aa6d5-8939-4475-f82d-31418c390dde"
      },
      "execution_count": 12,
      "outputs": [
        {
          "output_type": "stream",
          "name": "stdout",
          "text": [
            "['hello world\\n', 'welcom to python\\n', 'have a good day\\n', '\\n', '3\\n', '5']\n"
          ]
        }
      ]
    }
  ]
}