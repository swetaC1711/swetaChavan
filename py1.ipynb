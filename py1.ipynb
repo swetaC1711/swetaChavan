{
  "nbformat": 4,
  "nbformat_minor": 0,
  "metadata": {
    "colab": {
      "provenance": []
    },
    "kernelspec": {
      "name": "python3",
      "display_name": "Python 3"
    },
    "language_info": {
      "name": "python"
    }
  },
  "cells": [
    {
      "cell_type": "code",
      "execution_count": null,
      "metadata": {
        "id": "xlSSRJiNczTR"
      },
      "outputs": [],
      "source": [
        "#Vriable -> data container(where exactly you are storing your values)\n",
        "num=10"
      ]
    },
    {
      "cell_type": "code",
      "source": [
        "print(num);\n",
        "print(type(num));"
      ],
      "metadata": {
        "colab": {
          "base_uri": "https://localhost:8080/"
        },
        "id": "vdDeJMPFfhEY",
        "outputId": "547896a0-49a0-4143-bd79-a100623137e9"
      },
      "execution_count": null,
      "outputs": [
        {
          "output_type": "stream",
          "name": "stdout",
          "text": [
            "10\n",
            "<class 'int'>\n"
          ]
        }
      ]
    },
    {
      "cell_type": "code",
      "source": [
        "#string -> set of characters\n",
        "strn ='introduction';\n",
        "print(strn);\n",
        "print(type(strn));"
      ],
      "metadata": {
        "colab": {
          "base_uri": "https://localhost:8080/"
        },
        "id": "5e7G__0QkjEy",
        "outputId": "d8446300-c3d1-46c2-9725-3a15312d611d"
      },
      "execution_count": null,
      "outputs": [
        {
          "output_type": "stream",
          "name": "stdout",
          "text": [
            "introduction\n",
            "<class 'str'>\n"
          ]
        }
      ]
    },
    {
      "cell_type": "code",
      "source": [
        "#boolean -> true or false\n",
        "print(7>5);"
      ],
      "metadata": {
        "colab": {
          "base_uri": "https://localhost:8080/"
        },
        "id": "9B-sJKGBkjHs",
        "outputId": "b43d3cab-04db-450d-a1cc-d1606f8c3441"
      },
      "execution_count": null,
      "outputs": [
        {
          "output_type": "stream",
          "name": "stdout",
          "text": [
            "True\n"
          ]
        }
      ]
    },
    {
      "cell_type": "code",
      "source": [
        "#concatination -> combining the datas\n",
        "num1=9;\n",
        "num2=9.7;\n",
        "print(num1+num2);\n",
        "n1='hello';\n",
        "n2='world';\n",
        "print(n1+n2);\n",
        "print(n1 ,n2);\n"
      ],
      "metadata": {
        "colab": {
          "base_uri": "https://localhost:8080/"
        },
        "id": "bEHEef6RlG5y",
        "outputId": "2305ee31-2494-43b0-dd43-f0ba48704cd3"
      },
      "execution_count": null,
      "outputs": [
        {
          "output_type": "stream",
          "name": "stdout",
          "text": [
            "18.7\n",
            "helloworld\n",
            "hello world\n"
          ]
        }
      ]
    },
    {
      "cell_type": "markdown",
      "source": [
        "class 2"
      ],
      "metadata": {
        "id": "CZyVQShlm-my"
      }
    },
    {
      "cell_type": "code",
      "source": [
        "#collective data types -> list, set, tuple, dictionary\n",
        "myList = [\"data\",\"a\",\"task\",\"course\",89,6.09,True]\n",
        "print(myList[3])\n",
        "print(myList)\n",
        "print(type(myList))\n",
        "\n",
        "#update\n",
        "myList[-2]=47;\n",
        "\n",
        "#append(add)\n",
        "myList.append(\"green\");\n",
        "print(myList)\n",
        "\n",
        "#insert\n",
        "myList.insert(-3,\"insert\");\n",
        "print(myList)\n",
        "\n",
        "#add two list\n",
        "list1=[1,23,456]\n",
        "list1.extend(myList)\n",
        "print(list1)\n",
        "\n",
        "#remove\n",
        "myList.remove(89)\n",
        "print(myList)\n",
        "\n",
        "#delete\n",
        "del myList[-5]\n",
        "print(myList)\n",
        "\n"
      ],
      "metadata": {
        "colab": {
          "base_uri": "https://localhost:8080/"
        },
        "id": "a1bSKt8dnF_G",
        "outputId": "e94e508d-3f53-42b5-d03a-38bea46e367b"
      },
      "execution_count": null,
      "outputs": [
        {
          "output_type": "stream",
          "name": "stdout",
          "text": [
            "course\n",
            "['data', 'a', 'task', 'course', 89, 6.09, True]\n",
            "<class 'list'>\n",
            "['data', 'a', 'task', 'course', 89, 47, True, 'green']\n",
            "['data', 'a', 'task', 'course', 89, 'insert', 47, True, 'green']\n",
            "[1, 23, 456, 'data', 'a', 'task', 'course', 89, 'insert', 47, True, 'green']\n",
            "['data', 'a', 'task', 'course', 'insert', 47, True, 'green']\n",
            "['data', 'a', 'task', 'insert', 47, True, 'green']\n"
          ]
        }
      ]
    },
    {
      "cell_type": "code",
      "source": [
        "#tuple -> ordered collection of datatype,(),immutable\n",
        "tup=(\"del\",\"doll\",98,9.7,False)\n",
        "print(len(tup))"
      ],
      "metadata": {
        "colab": {
          "base_uri": "https://localhost:8080/"
        },
        "id": "A0ybafwDsE-A",
        "outputId": "3be4d4d6-9cc6-4b5b-8296-6d3e13cb5efa"
      },
      "execution_count": null,
      "outputs": [
        {
          "output_type": "stream",
          "name": "stdout",
          "text": [
            "5\n"
          ]
        }
      ]
    },
    {
      "cell_type": "code",
      "source": [
        "#dictionary -> {keys:values}\n",
        "mydic={\"username\":\"admin\",\n",
        "       \"password\":\"pass\",\n",
        "       \"batch\":2023\n",
        "       }\n",
        "print(mydic)\n",
        "print(mydic[\"username\"])\n",
        "\n",
        "#update\n",
        "mydic[\"username\"]=\"admin123\"\n",
        "print(mydic)\n",
        "\n",
        "mydic[\"username\"]=(\"admin\",\"admin123\")\n",
        "print(mydic)\n",
        "\n",
        "#append\n",
        "mydic[\"course\"]=977\n",
        "print(mydic)\n",
        "\n",
        "l1=[1,2,3,4]\n",
        "mydic[\"password\"]=l1\n",
        "print(mydic)\n",
        "\n",
        "#pop\n",
        "mydic.pop(\"username\")\n",
        "print(mydic)\n",
        "\n",
        "\n",
        "#update key\n",
        "new=mydic[\"course\"]\n",
        "del mydic[\"course\"]\n",
        "mydic[\"learning\"]=new\n",
        "print(mydic)\n",
        "\n",
        "#delete\n",
        "del mydic"
      ],
      "metadata": {
        "colab": {
          "base_uri": "https://localhost:8080/"
        },
        "id": "L1oqOcdcs9it",
        "outputId": "6e027077-9f4a-49ff-b70e-237292df8b82"
      },
      "execution_count": null,
      "outputs": [
        {
          "output_type": "stream",
          "name": "stdout",
          "text": [
            "{'username': 'admin', 'password': 'pass', 'batch': 2023}\n",
            "admin\n",
            "{'username': 'admin123', 'password': 'pass', 'batch': 2023}\n",
            "{'username': ('admin', 'admin123'), 'password': 'pass', 'batch': 2023}\n",
            "{'username': ('admin', 'admin123'), 'password': 'pass', 'batch': 2023, 'course': 977}\n",
            "{'username': ('admin', 'admin123'), 'password': [1, 2, 3, 4], 'batch': 2023, 'course': 977}\n",
            "{'password': [1, 2, 3, 4], 'batch': 2023, 'course': 977}\n",
            "{'password': [1, 2, 3, 4], 'batch': 2023, 'learning': 977}\n"
          ]
        }
      ]
    },
    {
      "cell_type": "code",
      "source": [
        "#set->unorder, unindexed collection of datatypes, {}, doen't contain a duplicate value\n",
        "\n",
        "myset={\"data\",\"task\",12,23.6,False,\"hello\"}\n",
        "print(myset) #randomvalue\n",
        "\n",
        "#add or append\n",
        "myset.add(\"true\")\n",
        "print(myset)\n",
        "\n",
        "\n",
        "set1={1,23,4,5,56,9}\n",
        "set2={2,3,0,8,3,4}\n",
        "set3=set1.union(set2)\n",
        "print(set3)\n",
        "#unioun sign--> |\n",
        "set4=set1|set2\n",
        "print(set4)\n",
        "\n",
        "#intersection\n",
        "set4=myset.intersection(set1)\n",
        "print(set4)"
      ],
      "metadata": {
        "colab": {
          "base_uri": "https://localhost:8080/"
        },
        "id": "NJJa45OInfQv",
        "outputId": "e88169b9-8c6d-4a89-eba1-ebf836934069"
      },
      "execution_count": null,
      "outputs": [
        {
          "output_type": "stream",
          "name": "stdout",
          "text": [
            "{False, 'hello', 12, 'task', 23.6, 'data'}\n",
            "{False, 'hello', 12, 'true', 'task', 23.6, 'data'}\n",
            "{0, 1, 2, 3, 4, 5, 8, 9, 23, 56}\n",
            "{0, 1, 2, 3, 4, 5, 8, 9, 23, 56}\n",
            "set()\n"
          ]
        }
      ]
    },
    {
      "cell_type": "code",
      "source": [
        "set1={1,2,3,4,5}\n",
        "set2={1,57,5,6,7,7}\n",
        "set3=set1&set2\n",
        "print(set3)\n",
        "\n",
        "set2.clear()\n",
        "print(set2)"
      ],
      "metadata": {
        "colab": {
          "base_uri": "https://localhost:8080/"
        },
        "id": "DdXUZjtIrnPp",
        "outputId": "cc2caa43-1fc9-4a1d-9514-58075d77fed8"
      },
      "execution_count": null,
      "outputs": [
        {
          "output_type": "stream",
          "name": "stdout",
          "text": [
            "{1, 5}\n",
            "set()\n"
          ]
        }
      ]
    },
    {
      "cell_type": "code",
      "source": [
        "#difference\n",
        "set4=set1.difference(set2)\n",
        "print(set4)"
      ],
      "metadata": {
        "colab": {
          "base_uri": "https://localhost:8080/"
        },
        "id": "DfLRBOrvsAR0",
        "outputId": "a46f5c53-e66e-4b65-8788-9209e9a37dee"
      },
      "execution_count": null,
      "outputs": [
        {
          "output_type": "stream",
          "name": "stdout",
          "text": [
            "{1, 2, 3, 4, 5}\n"
          ]
        }
      ]
    },
    {
      "cell_type": "code",
      "source": [
        "dec={'we':12,'we1':12}\n",
        "print(dec)"
      ],
      "metadata": {
        "colab": {
          "base_uri": "https://localhost:8080/"
        },
        "id": "3p_2bhfxoaUI",
        "outputId": "99523f43-1f6f-4ca1-8aaf-ef5faa1153d6"
      },
      "execution_count": null,
      "outputs": [
        {
          "output_type": "stream",
          "name": "stdout",
          "text": [
            "{'we': 12, 'we1': 12}\n"
          ]
        }
      ]
    },
    {
      "cell_type": "code",
      "source": [
        "''' Assignment 1\n",
        "create atwo different examples for collective datatypes in python'''\n"
      ],
      "metadata": {
        "id": "F8SiaVqttHe7"
      },
      "execution_count": null,
      "outputs": []
    },
    {
      "cell_type": "markdown",
      "source": [
        "class 4"
      ],
      "metadata": {
        "id": "G_0Uv1Bet4JL"
      }
    },
    {
      "cell_type": "code",
      "source": [
        "#Function -> a set of data will be executed when ever you call it"
      ],
      "metadata": {
        "id": "z4gHnwdPt4AU"
      },
      "execution_count": null,
      "outputs": []
    },
    {
      "cell_type": "code",
      "source": [
        "def a():\n",
        "  print(\"hello world\")\n",
        "\n",
        "a()"
      ],
      "metadata": {
        "colab": {
          "base_uri": "https://localhost:8080/"
        },
        "id": "ugnzjJa7tFfV",
        "outputId": "e6b78bae-a41c-41c0-f4ec-464ef89a9e30"
      },
      "execution_count": null,
      "outputs": [
        {
          "output_type": "stream",
          "name": "stdout",
          "text": [
            "hello world\n"
          ]
        }
      ]
    },
    {
      "cell_type": "code",
      "source": [
        "def add(num1,num2): #num1 and num2 are parameters,  #add() is a function name\n",
        "    print(num1+num2)\n",
        "add(6,9)# 6,9 are arguments"
      ],
      "metadata": {
        "colab": {
          "base_uri": "https://localhost:8080/"
        },
        "id": "wVuhGgIduuwa",
        "outputId": "6535ad47-007a-432e-fc8e-ee8ca60ec9f9"
      },
      "execution_count": null,
      "outputs": [
        {
          "output_type": "stream",
          "name": "stdout",
          "text": [
            "15\n"
          ]
        }
      ]
    },
    {
      "cell_type": "code",
      "source": [
        "def add():\n",
        "  n1=int(input(\"enter num1: \"))\n",
        "  n2=int(input(\"enter num2: \"))\n",
        "  print(n1+n2)\n",
        "add()"
      ],
      "metadata": {
        "colab": {
          "base_uri": "https://localhost:8080/"
        },
        "id": "Zm5ALQ172DuA",
        "outputId": "ee20a3fc-d1b3-486e-9862-b3659f8e3597"
      },
      "execution_count": 3,
      "outputs": [
        {
          "output_type": "stream",
          "name": "stdout",
          "text": [
            "enter num1: 2\n",
            "enter num2: 3\n",
            "5\n"
          ]
        }
      ]
    },
    {
      "cell_type": "code",
      "source": [
        "a=5\n",
        "for i in range(0,a):\n",
        "  print(i)"
      ],
      "metadata": {
        "colab": {
          "base_uri": "https://localhost:8080/"
        },
        "id": "TnFn7-OzCrVa",
        "outputId": "ede0f5ab-9680-433b-d9f7-f0360d35aadb"
      },
      "execution_count": 6,
      "outputs": [
        {
          "output_type": "stream",
          "name": "stdout",
          "text": [
            "0\n",
            "1\n",
            "2\n",
            "3\n",
            "4\n"
          ]
        }
      ]
    },
    {
      "cell_type": "code",
      "source": [
        "myList=[\"stack\",\"A\",\"for\",\"sub\",\"neg\",\"Tag\"]\n",
        "print(myList)\n",
        "for a in myList:\n",
        "  print(a)"
      ],
      "metadata": {
        "colab": {
          "base_uri": "https://localhost:8080/"
        },
        "id": "Owssx9cnDaLo",
        "outputId": "e53d1748-dd8d-4659-c691-739cd8eacaa9"
      },
      "execution_count": 8,
      "outputs": [
        {
          "output_type": "stream",
          "name": "stdout",
          "text": [
            "['stack', 'A', 'for', 'sub', 'neg', 'Tag']\n",
            "stack\n",
            "A\n",
            "for\n",
            "sub\n",
            "neg\n",
            "Tag\n"
          ]
        }
      ]
    },
    {
      "cell_type": "code",
      "source": [
        "def x():\n",
        "  for i in range(0,-5,-2):#(start,stop,)\n",
        "    print(i)\n",
        "x()"
      ],
      "metadata": {
        "colab": {
          "base_uri": "https://localhost:8080/"
        },
        "id": "UZI96UprIhO2",
        "outputId": "702aece3-8ee0-48e4-ff55-5ae05475e27b"
      },
      "execution_count": 12,
      "outputs": [
        {
          "output_type": "stream",
          "name": "stdout",
          "text": [
            "0\n",
            "-2\n",
            "-4\n"
          ]
        }
      ]
    },
    {
      "cell_type": "code",
      "source": [
        "info = {'name':'saurabh','age':20,'country':'India'}\n",
        "for i in info:\n",
        "    print(i ,':' ,info[i])\n",
        "for i in info:\n",
        "    print(i)"
      ],
      "metadata": {
        "colab": {
          "base_uri": "https://localhost:8080/"
        },
        "id": "UBIETWEaJwYe",
        "outputId": "4dd943c3-f330-464e-f391-c470b403432f"
      },
      "execution_count": 25,
      "outputs": [
        {
          "output_type": "stream",
          "name": "stdout",
          "text": [
            "name : saurabh\n",
            "age : 20\n",
            "country : India\n",
            "name\n",
            "age\n",
            "country\n"
          ]
        }
      ]
    },
    {
      "cell_type": "code",
      "source": [
        "if(2>6):\n",
        "  print(\"2 is greater\")\n",
        "elif(2==6):\n",
        "  print(\"2 is equals to 6\")\n",
        "else:\n",
        "  print(\"6 is greater\")"
      ],
      "metadata": {
        "colab": {
          "base_uri": "https://localhost:8080/"
        },
        "id": "4MX9MzrLLSQ-",
        "outputId": "412f49e0-e405-4632-adb1-b660e46c85a3"
      },
      "execution_count": 16,
      "outputs": [
        {
          "output_type": "stream",
          "name": "stdout",
          "text": [
            "6 is greater\n"
          ]
        }
      ]
    },
    {
      "cell_type": "code",
      "source": [
        "def quiz():\n",
        "  n=input()\n",
        "  if n==(\"a\"or\"b\"or\"c\"):\n",
        "    print(\"you have lost\")\n",
        "  elif n==9:\n",
        "    print(\"its a number\")\n",
        "  else:\n",
        "    print(\"none\") \n",
        "quiz()"
      ],
      "metadata": {
        "colab": {
          "base_uri": "https://localhost:8080/"
        },
        "id": "0Vvh0pRjMB_7",
        "outputId": "759226e0-81f4-4d04-9232-76890f8bfaea"
      },
      "execution_count": 21,
      "outputs": [
        {
          "output_type": "stream",
          "name": "stdout",
          "text": [
            "c\n",
            "none\n"
          ]
        }
      ]
    }
  ]
}