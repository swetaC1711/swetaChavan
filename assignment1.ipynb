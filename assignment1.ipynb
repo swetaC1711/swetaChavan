{
  "nbformat": 4,
  "nbformat_minor": 0,
  "metadata": {
    "colab": {
      "provenance": []
    },
    "kernelspec": {
      "name": "python3",
      "display_name": "Python 3"
    },
    "language_info": {
      "name": "python"
    }
  },
  "cells": [
    {
      "cell_type": "markdown",
      "source": [
        "LIST"
      ],
      "metadata": {
        "id": "Ndsk3S1CKyIz"
      }
    },
    {
      "cell_type": "code",
      "execution_count": 5,
      "metadata": {
        "colab": {
          "base_uri": "https://localhost:8080/"
        },
        "id": "LMNfzIYpJN4u",
        "outputId": "ddd84242-31a7-4808-d524-8cdc2a968f0a"
      },
      "outputs": [
        {
          "output_type": "stream",
          "name": "stdout",
          "text": [
            "course\n",
            "['data', 'a', 'task', 'course', 89, 6.09, True]\n",
            "<class 'list'>\n"
          ]
        }
      ],
      "source": [
        "myList = [\"data\",\"a\",\"task\",\"course\",89,6.09,True]\n",
        "print(myList[3])\n",
        "print(myList)\n",
        "print(type(myList))"
      ]
    },
    {
      "cell_type": "code",
      "source": [
        "myList = [\"data\",\"a\",\"task\",\"course\",89,6.09,True]\n",
        "for i in range(0,len(myList)):\n",
        "  print(myList[i])"
      ],
      "metadata": {
        "colab": {
          "base_uri": "https://localhost:8080/"
        },
        "id": "vtQfx4ipJlpP",
        "outputId": "2af12853-e024-469c-aee6-46afb4f2719a"
      },
      "execution_count": 10,
      "outputs": [
        {
          "output_type": "stream",
          "name": "stdout",
          "text": [
            "data\n",
            "a\n",
            "task\n",
            "course\n",
            "89\n",
            "6.09\n",
            "True\n"
          ]
        }
      ]
    },
    {
      "cell_type": "markdown",
      "source": [
        "SET"
      ],
      "metadata": {
        "id": "TKp_WgJSKwN3"
      }
    },
    {
      "cell_type": "code",
      "source": [
        "myset={\"data\",\"task\",12,23.6,False,\"hello\"}\n",
        "print(myset)\n",
        "print(type(myset))"
      ],
      "metadata": {
        "colab": {
          "base_uri": "https://localhost:8080/"
        },
        "id": "BfAzgoQNK3Md",
        "outputId": "60a199a4-cf99-43ac-8a92-306877ae803e"
      },
      "execution_count": 16,
      "outputs": [
        {
          "output_type": "stream",
          "name": "stdout",
          "text": [
            "{False, 'hello', 'data', 12, 'task', 23.6}\n",
            "<class 'set'>\n"
          ]
        }
      ]
    },
    {
      "cell_type": "markdown",
      "source": [
        "DICTIONARY"
      ],
      "metadata": {
        "id": "ibdMiRVVLlNE"
      }
    },
    {
      "cell_type": "code",
      "source": [
        "mydic={\"username\":\"admin\",\n",
        "       \"password\":\"pass\",\n",
        "       \"batch\":2023\n",
        "       }\n",
        "print(mydic)\n",
        "print(mydic[\"username\"])\n",
        "  "
      ],
      "metadata": {
        "colab": {
          "base_uri": "https://localhost:8080/"
        },
        "id": "mYIzJ_0ULBBZ",
        "outputId": "1ea3f341-2bc9-450b-a942-f8f0ee17d52d"
      },
      "execution_count": 17,
      "outputs": [
        {
          "output_type": "stream",
          "name": "stdout",
          "text": [
            "{'username': 'admin', 'password': 'pass', 'batch': 2023}\n",
            "admin\n"
          ]
        }
      ]
    },
    {
      "cell_type": "code",
      "source": [
        "mydict={\"username\":\"admin\",\n",
        "       \"password\":\"pass\",\n",
        "       \"batch\":2023,\"dict\":{\"uid\":12,\"name\":\"sweta\",\"date\":\"17NOV2002\"},\"mine\":\"aditya\"}\n",
        "for key, value in mydict.items():\n",
        "  if type(value) == dict:\n",
        "    for nested_key, nested_value in value.items():\n",
        "      print(f\"{nested_key}:{nested_value}\")\n",
        "  else:\n",
        "    print(f\" (key): {value}\")"
      ],
      "metadata": {
        "colab": {
          "base_uri": "https://localhost:8080/"
        },
        "id": "AbeITo_LLz9q",
        "outputId": "da81adb5-109e-4f57-e515-3e34fb913f87"
      },
      "execution_count": 19,
      "outputs": [
        {
          "output_type": "stream",
          "name": "stdout",
          "text": [
            " (key): admin\n",
            " (key): pass\n",
            " (key): 2023\n",
            "uid:12\n",
            "name:sweta\n",
            "date:17NOV2002\n",
            " (key): aditya\n"
          ]
        }
      ]
    },
    {
      "cell_type": "markdown",
      "source": [
        "TUPLE"
      ],
      "metadata": {
        "id": "vM27m3nqM06t"
      }
    },
    {
      "cell_type": "code",
      "source": [
        "tup=(\"sweta\",\"chavan\",17112002)\n",
        "print(tup)"
      ],
      "metadata": {
        "colab": {
          "base_uri": "https://localhost:8080/"
        },
        "id": "QQoQ2aUvM0HB",
        "outputId": "823d0f68-401b-4463-aba7-253e682c4a1d"
      },
      "execution_count": 24,
      "outputs": [
        {
          "output_type": "stream",
          "name": "stdout",
          "text": [
            "chavan\n"
          ]
        }
      ]
    },
    {
      "cell_type": "code",
      "source": [
        "tup=(\"sweta\",\"chavan\",17112002)\n",
        "print(tup[1])"
      ],
      "metadata": {
        "colab": {
          "base_uri": "https://localhost:8080/"
        },
        "id": "J5B6u0VcNSp8",
        "outputId": "1c45990a-6b5e-4ff7-c9af-a80fb09e135b"
      },
      "execution_count": 26,
      "outputs": [
        {
          "output_type": "stream",
          "name": "stdout",
          "text": [
            "chavan\n"
          ]
        }
      ]
    }
  ]
}